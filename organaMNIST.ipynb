{
  "nbformat": 4,
  "nbformat_minor": 0,
  "metadata": {
    "colab": {
      "provenance": [],
      "include_colab_link": true
    },
    "kernelspec": {
      "name": "python3",
      "display_name": "Python 3"
    },
    "language_info": {
      "name": "python"
    }
  },
  "cells": [
    {
      "cell_type": "markdown",
      "metadata": {
        "id": "view-in-github",
        "colab_type": "text"
      },
      "source": [
        "<a href=\"https://colab.research.google.com/github/karensanb/rx/blob/main/organaMNIST.ipynb\" target=\"_parent\"><img src=\"https://colab.research.google.com/assets/colab-badge.svg\" alt=\"Open In Colab\"/></a>"
      ]
    },
    {
      "cell_type": "code",
      "execution_count": 1,
      "metadata": {
        "colab": {
          "base_uri": "https://localhost:8080/"
        },
        "collapsed": true,
        "id": "vi5n7TgN4I0b",
        "outputId": "bc0066ba-4224-441d-f4f8-2d08a0b6badc"
      },
      "outputs": [
        {
          "output_type": "stream",
          "name": "stdout",
          "text": [
            "Collecting medmnist\n",
            "  Downloading medmnist-3.0.2-py3-none-any.whl.metadata (14 kB)\n",
            "Requirement already satisfied: numpy in /usr/local/lib/python3.12/dist-packages (from medmnist) (2.0.2)\n",
            "Requirement already satisfied: pandas in /usr/local/lib/python3.12/dist-packages (from medmnist) (2.2.2)\n",
            "Requirement already satisfied: scikit-learn in /usr/local/lib/python3.12/dist-packages (from medmnist) (1.6.1)\n",
            "Requirement already satisfied: scikit-image in /usr/local/lib/python3.12/dist-packages (from medmnist) (0.25.2)\n",
            "Requirement already satisfied: tqdm in /usr/local/lib/python3.12/dist-packages (from medmnist) (4.67.1)\n",
            "Requirement already satisfied: Pillow in /usr/local/lib/python3.12/dist-packages (from medmnist) (11.3.0)\n",
            "Collecting fire (from medmnist)\n",
            "  Downloading fire-0.7.1-py3-none-any.whl.metadata (5.8 kB)\n",
            "Requirement already satisfied: torch in /usr/local/lib/python3.12/dist-packages (from medmnist) (2.8.0+cu126)\n",
            "Requirement already satisfied: torchvision in /usr/local/lib/python3.12/dist-packages (from medmnist) (0.23.0+cu126)\n",
            "Requirement already satisfied: termcolor in /usr/local/lib/python3.12/dist-packages (from fire->medmnist) (3.1.0)\n",
            "Requirement already satisfied: python-dateutil>=2.8.2 in /usr/local/lib/python3.12/dist-packages (from pandas->medmnist) (2.9.0.post0)\n",
            "Requirement already satisfied: pytz>=2020.1 in /usr/local/lib/python3.12/dist-packages (from pandas->medmnist) (2025.2)\n",
            "Requirement already satisfied: tzdata>=2022.7 in /usr/local/lib/python3.12/dist-packages (from pandas->medmnist) (2025.2)\n",
            "Requirement already satisfied: scipy>=1.11.4 in /usr/local/lib/python3.12/dist-packages (from scikit-image->medmnist) (1.16.1)\n",
            "Requirement already satisfied: networkx>=3.0 in /usr/local/lib/python3.12/dist-packages (from scikit-image->medmnist) (3.5)\n",
            "Requirement already satisfied: imageio!=2.35.0,>=2.33 in /usr/local/lib/python3.12/dist-packages (from scikit-image->medmnist) (2.37.0)\n",
            "Requirement already satisfied: tifffile>=2022.8.12 in /usr/local/lib/python3.12/dist-packages (from scikit-image->medmnist) (2025.6.11)\n",
            "Requirement already satisfied: packaging>=21 in /usr/local/lib/python3.12/dist-packages (from scikit-image->medmnist) (25.0)\n",
            "Requirement already satisfied: lazy-loader>=0.4 in /usr/local/lib/python3.12/dist-packages (from scikit-image->medmnist) (0.4)\n",
            "Requirement already satisfied: joblib>=1.2.0 in /usr/local/lib/python3.12/dist-packages (from scikit-learn->medmnist) (1.5.1)\n",
            "Requirement already satisfied: threadpoolctl>=3.1.0 in /usr/local/lib/python3.12/dist-packages (from scikit-learn->medmnist) (3.6.0)\n",
            "Requirement already satisfied: filelock in /usr/local/lib/python3.12/dist-packages (from torch->medmnist) (3.19.1)\n",
            "Requirement already satisfied: typing-extensions>=4.10.0 in /usr/local/lib/python3.12/dist-packages (from torch->medmnist) (4.14.1)\n",
            "Requirement already satisfied: setuptools in /usr/local/lib/python3.12/dist-packages (from torch->medmnist) (75.2.0)\n",
            "Requirement already satisfied: sympy>=1.13.3 in /usr/local/lib/python3.12/dist-packages (from torch->medmnist) (1.13.3)\n",
            "Requirement already satisfied: jinja2 in /usr/local/lib/python3.12/dist-packages (from torch->medmnist) (3.1.6)\n",
            "Requirement already satisfied: fsspec in /usr/local/lib/python3.12/dist-packages (from torch->medmnist) (2025.3.0)\n",
            "Requirement already satisfied: nvidia-cuda-nvrtc-cu12==12.6.77 in /usr/local/lib/python3.12/dist-packages (from torch->medmnist) (12.6.77)\n",
            "Requirement already satisfied: nvidia-cuda-runtime-cu12==12.6.77 in /usr/local/lib/python3.12/dist-packages (from torch->medmnist) (12.6.77)\n",
            "Requirement already satisfied: nvidia-cuda-cupti-cu12==12.6.80 in /usr/local/lib/python3.12/dist-packages (from torch->medmnist) (12.6.80)\n",
            "Requirement already satisfied: nvidia-cudnn-cu12==9.10.2.21 in /usr/local/lib/python3.12/dist-packages (from torch->medmnist) (9.10.2.21)\n",
            "Requirement already satisfied: nvidia-cublas-cu12==12.6.4.1 in /usr/local/lib/python3.12/dist-packages (from torch->medmnist) (12.6.4.1)\n",
            "Requirement already satisfied: nvidia-cufft-cu12==11.3.0.4 in /usr/local/lib/python3.12/dist-packages (from torch->medmnist) (11.3.0.4)\n",
            "Requirement already satisfied: nvidia-curand-cu12==10.3.7.77 in /usr/local/lib/python3.12/dist-packages (from torch->medmnist) (10.3.7.77)\n",
            "Requirement already satisfied: nvidia-cusolver-cu12==11.7.1.2 in /usr/local/lib/python3.12/dist-packages (from torch->medmnist) (11.7.1.2)\n",
            "Requirement already satisfied: nvidia-cusparse-cu12==12.5.4.2 in /usr/local/lib/python3.12/dist-packages (from torch->medmnist) (12.5.4.2)\n",
            "Requirement already satisfied: nvidia-cusparselt-cu12==0.7.1 in /usr/local/lib/python3.12/dist-packages (from torch->medmnist) (0.7.1)\n",
            "Requirement already satisfied: nvidia-nccl-cu12==2.27.3 in /usr/local/lib/python3.12/dist-packages (from torch->medmnist) (2.27.3)\n",
            "Requirement already satisfied: nvidia-nvtx-cu12==12.6.77 in /usr/local/lib/python3.12/dist-packages (from torch->medmnist) (12.6.77)\n",
            "Requirement already satisfied: nvidia-nvjitlink-cu12==12.6.85 in /usr/local/lib/python3.12/dist-packages (from torch->medmnist) (12.6.85)\n",
            "Requirement already satisfied: nvidia-cufile-cu12==1.11.1.6 in /usr/local/lib/python3.12/dist-packages (from torch->medmnist) (1.11.1.6)\n",
            "Requirement already satisfied: triton==3.4.0 in /usr/local/lib/python3.12/dist-packages (from torch->medmnist) (3.4.0)\n",
            "Requirement already satisfied: six>=1.5 in /usr/local/lib/python3.12/dist-packages (from python-dateutil>=2.8.2->pandas->medmnist) (1.17.0)\n",
            "Requirement already satisfied: mpmath<1.4,>=1.1.0 in /usr/local/lib/python3.12/dist-packages (from sympy>=1.13.3->torch->medmnist) (1.3.0)\n",
            "Requirement already satisfied: MarkupSafe>=2.0 in /usr/local/lib/python3.12/dist-packages (from jinja2->torch->medmnist) (3.0.2)\n",
            "Downloading medmnist-3.0.2-py3-none-any.whl (25 kB)\n",
            "Downloading fire-0.7.1-py3-none-any.whl (115 kB)\n",
            "\u001b[2K   \u001b[90m━━━━━━━━━━━━━━━━━━━━━━━━━━━━━━━━━━━━━━━━\u001b[0m \u001b[32m115.9/115.9 kB\u001b[0m \u001b[31m2.3 MB/s\u001b[0m eta \u001b[36m0:00:00\u001b[0m\n",
            "\u001b[?25hInstalling collected packages: fire, medmnist\n",
            "Successfully installed fire-0.7.1 medmnist-3.0.2\n"
          ]
        }
      ],
      "source": [
        "!pip install medmnist"
      ]
    },
    {
      "cell_type": "code",
      "source": [
        "# Carga de librerías\n",
        "import numpy as np, tensorflow as tf, matplotlib.pyplot as plt\n",
        "\n",
        "# Carga de módulos\n",
        "from tensorflow.keras.models import Sequential\n",
        "from tensorflow.keras.layers import Flatten, Dense\n",
        "from tensorflow.keras.utils import to_categorical\n",
        "from tensorflow.keras.callbacks import EarlyStopping\n",
        "\n",
        "from tensorflow.keras.models import Sequential\n",
        "from tensorflow.keras.layers import Dense, Flatten, Dropout, BatchNormalization\n",
        "import tensorflow as tf\n",
        "\n",
        "import torch\n",
        "from torch.utils.data import DataLoader\n",
        "import medmnist\n",
        "from medmnist import OrganAMNIST"
      ],
      "metadata": {
        "id": "I4yb3zHT4egJ"
      },
      "execution_count": 2,
      "outputs": []
    },
    {
      "cell_type": "markdown",
      "metadata": {
        "id": "FcyxE9WTRQX3"
      },
      "source": [
        "# Dataset\n",
        "\n",
        "MNIST dataset\n",
        "\n",
        "https://www.tensorflow.org/api_docs/python/tf/keras/datasets"
      ]
    },
    {
      "cell_type": "code",
      "source": [
        "#Carga MNIST\n",
        "\n",
        "train_ds = OrganAMNIST(split='train', download=True, size=28)\n",
        "val_ds   = OrganAMNIST(split='val', download=True, size=28)\n",
        "test_ds  = OrganAMNIST(split='test', download=True, size=28)\n",
        "\n",
        "#Obtener imágenes y etiquetas como arrays de NumPy\n",
        "x_train, y_train = train_ds.imgs, train_ds.labels\n",
        "x_val, y_val     = val_ds.imgs, val_ds.labels\n",
        "x_test, y_test   = test_ds.imgs, test_ds.labels\n",
        "\n",
        "#Revisar formas\n",
        "print(\"x_train:\", x_train.shape, \"y_train:\", y_train.shape)\n",
        "print(\"x_val:\", x_val.shape, \"y_val:\", y_val.shape)\n",
        "print(\"x_test:\", x_test.shape, \"y_test:\", y_test.shape)"
      ],
      "metadata": {
        "colab": {
          "base_uri": "https://localhost:8080/"
        },
        "id": "qGLu-kIR4V64",
        "outputId": "db0eb415-491e-40d8-c4d7-aedc4e3d19c1"
      },
      "execution_count": 4,
      "outputs": [
        {
          "output_type": "stream",
          "name": "stderr",
          "text": [
            "100%|██████████| 38.2M/38.2M [00:38<00:00, 993kB/s] \n"
          ]
        },
        {
          "output_type": "stream",
          "name": "stdout",
          "text": [
            "x_train: (34561, 28, 28) y_train: (34561, 1)\n",
            "x_val: (6491, 28, 28) y_val: (6491, 1)\n",
            "x_test: (17778, 28, 28) y_test: (17778, 1)\n"
          ]
        }
      ]
    },
    {
      "cell_type": "markdown",
      "metadata": {
        "id": "GG0fy7IE92Cb"
      },
      "source": [
        "Reshape a un tesor de 4 dimensiones: batch size, width, height, color channels (método reshape sobre datos (X) de entrenamiento)"
      ]
    },
    {
      "cell_type": "code",
      "source": [
        "#Normalización a [0,1]\n",
        "x_train = x_train.astype(\"float32\") / 255.0\n",
        "x_val   = x_val.astype(\"float32\") / 255.0\n",
        "x_test  = x_test.astype(\"float32\") / 255.0\n",
        "\n",
        "#Reshape\n",
        "x_train_Mod = x_train.reshape(-1, 28*28)\n",
        "x_val_Mod   = x_val.reshape(-1, 28*28)\n",
        "x_test_Mod  = x_test.reshape(-1, 28*28)\n",
        "\n",
        "#Verificamos las formas nuevas\n",
        "print(\"x_train:\", x_train.shape)\n",
        "print(\"x_val:\", x_val.shape)\n",
        "print(\"x_test:\", x_test.shape)"
      ],
      "metadata": {
        "colab": {
          "base_uri": "https://localhost:8080/"
        },
        "id": "7MXavBMf6Kkd",
        "outputId": "0dbbaf28-df09-4fc9-e8f7-da732879ce35"
      },
      "execution_count": 5,
      "outputs": [
        {
          "output_type": "stream",
          "name": "stdout",
          "text": [
            "x_train: (34561, 28, 28)\n",
            "x_val: (6491, 28, 28)\n",
            "x_test: (17778, 28, 28)\n"
          ]
        }
      ]
    },
    {
      "cell_type": "markdown",
      "metadata": {
        "id": "SUbPp4N9-HiE"
      },
      "source": [
        "Convertir etiquetas a one-hot-encoding (categóricas)"
      ]
    },
    {
      "cell_type": "code",
      "source": [
        "y_train = to_categorical(y_train)\n",
        "y_test = to_categorical(y_test)"
      ],
      "metadata": {
        "id": "mAsSTXti6R45"
      },
      "execution_count": 6,
      "outputs": []
    },
    {
      "cell_type": "markdown",
      "metadata": {
        "id": "JkGaT20g-8hR"
      },
      "source": [
        "# Modelos (variación de Hiperparámetros)"
      ]
    },
    {
      "cell_type": "code",
      "source": [
        "#modelo 1\n",
        "#Datos\n",
        "x_train_Mod = x_train\n",
        "y_train_Mod = y_train\n",
        "x_val_Mod   = x_val\n",
        "y_val_Mod   = y_val\n",
        "\n",
        "#Hiperparámetros\n",
        "batch_s, lr, num_epochs = 64, 0.0005, 20\n",
        "optimizerf = tf.keras.optimizers.Adam(learning_rate=lr)\n",
        "\n",
        "#Modelo\n",
        "model = Sequential([\n",
        "    Flatten(),\n",
        "    Dense(512, activation='relu'),\n",
        "    BatchNormalization(),\n",
        "    Dense(256, activation='relu'),\n",
        "    BatchNormalization(),\n",
        "    Dense(128, activation='relu'),\n",
        "    Dense(11, activation='softmax')\n",
        "])"
      ],
      "metadata": {
        "id": "X4KBJAaP63aw"
      },
      "execution_count": 7,
      "outputs": []
    },
    {
      "cell_type": "code",
      "source": [
        "#Modelo 2\n",
        "#Datos\n",
        "x_train_Mod = x_train\n",
        "y_train_Mod = y_train\n",
        "x_val_Mod   = x_val\n",
        "y_val_Mod   = y_val\n",
        "\n",
        "#Hiperparámetros\n",
        "batch_s, lr, num_epochs = 64, 0.0003, 25\n",
        "optimizerf = tf.keras.optimizers.Adam(learning_rate=lr)\n",
        "weight_decay = 1e-5\n",
        "\n",
        "#Modelo\n",
        "model = Sequential([\n",
        "    Flatten(),\n",
        "    Dense(512, activation='relu', kernel_regularizer=tf.keras.regularizers.l2(weight_decay)),\n",
        "    Dropout(0.3),\n",
        "    Dense(256, activation='relu', kernel_regularizer=tf.keras.regularizers.l2(weight_decay)),\n",
        "    Dropout(0.3),\n",
        "    Dense(11, activation='softmax')\n",
        "])"
      ],
      "metadata": {
        "id": "q-5kJyYI65De"
      },
      "execution_count": 8,
      "outputs": []
    },
    {
      "cell_type": "code",
      "source": [
        "#Modelo 3\n",
        "#Datos\n",
        "x_train_Mod = x_train\n",
        "y_train_Mod = y_train\n",
        "x_val_Mod   = x_val\n",
        "y_val_Mod   = y_val\n",
        "\n",
        "#Hiperparámetros\n",
        "batch_s, lr, num_epochs = 128, 0.0001, 30\n",
        "optimizerf = tf.keras.optimizers.Adam(learning_rate=lr)\n",
        "\n",
        "#Modelo\n",
        "model = Sequential([\n",
        "    Flatten(),\n",
        "    Dense(1024, activation='relu'),\n",
        "    Dropout(0.4),\n",
        "    Dense(512, activation='sigmoid'),\n",
        "    Dense(256, activation='relu'),\n",
        "    Dense(11, activation='softmax')\n",
        "])"
      ],
      "metadata": {
        "id": "T2Uj4e6f7oET"
      },
      "execution_count": 9,
      "outputs": []
    },
    {
      "cell_type": "markdown",
      "metadata": {
        "id": "ooID7lPl_Cso"
      },
      "source": [
        "# Compilación y entrenamiento del modelo"
      ]
    },
    {
      "cell_type": "code",
      "source": [
        "model.compile(\n",
        "  optimizer=optimizerf,\n",
        "  loss= 'categorical_crossentropy',\n",
        "  metrics=['CategoricalAccuracy']\n",
        ")"
      ],
      "metadata": {
        "id": "Lj8QeIFi6_iO"
      },
      "execution_count": 10,
      "outputs": []
    },
    {
      "cell_type": "markdown",
      "metadata": {
        "id": "jpca1ZPB_-hS"
      },
      "source": [
        "# Entrenamiento"
      ]
    },
    {
      "cell_type": "code",
      "source": [
        "history = model.fit(\n",
        "    x_train_Mod,\n",
        "    y_train_Mod,\n",
        "    epochs=num_epochs,\n",
        "    batch_size=batch_s,\n",
        "    validation_data=(x_test, y_test))"
      ],
      "metadata": {
        "id": "ea8UrVKb7CnY",
        "colab": {
          "base_uri": "https://localhost:8080/"
        },
        "outputId": "19c1999c-386c-441a-b47f-164f58ea164b"
      },
      "execution_count": 12,
      "outputs": [
        {
          "output_type": "stream",
          "name": "stdout",
          "text": [
            "Epoch 1/30\n",
            "\u001b[1m271/271\u001b[0m \u001b[32m━━━━━━━━━━━━━━━━━━━━\u001b[0m\u001b[37m\u001b[0m \u001b[1m14s\u001b[0m 50ms/step - CategoricalAccuracy: 0.9091 - loss: 0.2913 - val_CategoricalAccuracy: 0.7306 - val_loss: 0.8486\n",
            "Epoch 2/30\n",
            "\u001b[1m271/271\u001b[0m \u001b[32m━━━━━━━━━━━━━━━━━━━━\u001b[0m\u001b[37m\u001b[0m \u001b[1m14s\u001b[0m 50ms/step - CategoricalAccuracy: 0.9014 - loss: 0.3123 - val_CategoricalAccuracy: 0.7481 - val_loss: 0.7789\n",
            "Epoch 3/30\n",
            "\u001b[1m271/271\u001b[0m \u001b[32m━━━━━━━━━━━━━━━━━━━━\u001b[0m\u001b[37m\u001b[0m \u001b[1m13s\u001b[0m 49ms/step - CategoricalAccuracy: 0.9224 - loss: 0.2535 - val_CategoricalAccuracy: 0.7571 - val_loss: 0.7802\n",
            "Epoch 4/30\n",
            "\u001b[1m271/271\u001b[0m \u001b[32m━━━━━━━━━━━━━━━━━━━━\u001b[0m\u001b[37m\u001b[0m \u001b[1m13s\u001b[0m 47ms/step - CategoricalAccuracy: 0.9196 - loss: 0.2590 - val_CategoricalAccuracy: 0.7549 - val_loss: 0.7996\n",
            "Epoch 5/30\n",
            "\u001b[1m271/271\u001b[0m \u001b[32m━━━━━━━━━━━━━━━━━━━━\u001b[0m\u001b[37m\u001b[0m \u001b[1m13s\u001b[0m 47ms/step - CategoricalAccuracy: 0.9299 - loss: 0.2253 - val_CategoricalAccuracy: 0.7553 - val_loss: 0.8005\n",
            "Epoch 6/30\n",
            "\u001b[1m271/271\u001b[0m \u001b[32m━━━━━━━━━━━━━━━━━━━━\u001b[0m\u001b[37m\u001b[0m \u001b[1m12s\u001b[0m 46ms/step - CategoricalAccuracy: 0.9393 - loss: 0.2041 - val_CategoricalAccuracy: 0.7399 - val_loss: 0.8370\n",
            "Epoch 7/30\n",
            "\u001b[1m271/271\u001b[0m \u001b[32m━━━━━━━━━━━━━━━━━━━━\u001b[0m\u001b[37m\u001b[0m \u001b[1m22s\u001b[0m 50ms/step - CategoricalAccuracy: 0.9326 - loss: 0.2148 - val_CategoricalAccuracy: 0.7192 - val_loss: 0.9673\n",
            "Epoch 8/30\n",
            "\u001b[1m271/271\u001b[0m \u001b[32m━━━━━━━━━━━━━━━━━━━━\u001b[0m\u001b[37m\u001b[0m \u001b[1m14s\u001b[0m 51ms/step - CategoricalAccuracy: 0.8998 - loss: 0.3132 - val_CategoricalAccuracy: 0.7587 - val_loss: 0.7758\n",
            "Epoch 9/30\n",
            "\u001b[1m271/271\u001b[0m \u001b[32m━━━━━━━━━━━━━━━━━━━━\u001b[0m\u001b[37m\u001b[0m \u001b[1m21s\u001b[0m 52ms/step - CategoricalAccuracy: 0.9433 - loss: 0.1872 - val_CategoricalAccuracy: 0.7596 - val_loss: 0.7979\n",
            "Epoch 10/30\n",
            "\u001b[1m271/271\u001b[0m \u001b[32m━━━━━━━━━━━━━━━━━━━━\u001b[0m\u001b[37m\u001b[0m \u001b[1m19s\u001b[0m 45ms/step - CategoricalAccuracy: 0.9473 - loss: 0.1737 - val_CategoricalAccuracy: 0.7387 - val_loss: 0.9257\n",
            "Epoch 11/30\n",
            "\u001b[1m271/271\u001b[0m \u001b[32m━━━━━━━━━━━━━━━━━━━━\u001b[0m\u001b[37m\u001b[0m \u001b[1m12s\u001b[0m 45ms/step - CategoricalAccuracy: 0.8996 - loss: 0.3466 - val_CategoricalAccuracy: 0.7551 - val_loss: 0.8114\n",
            "Epoch 12/30\n",
            "\u001b[1m271/271\u001b[0m \u001b[32m━━━━━━━━━━━━━━━━━━━━\u001b[0m\u001b[37m\u001b[0m \u001b[1m14s\u001b[0m 51ms/step - CategoricalAccuracy: 0.9532 - loss: 0.1583 - val_CategoricalAccuracy: 0.7596 - val_loss: 0.8084\n",
            "Epoch 13/30\n",
            "\u001b[1m271/271\u001b[0m \u001b[32m━━━━━━━━━━━━━━━━━━━━\u001b[0m\u001b[37m\u001b[0m \u001b[1m20s\u001b[0m 51ms/step - CategoricalAccuracy: 0.9562 - loss: 0.1472 - val_CategoricalAccuracy: 0.7592 - val_loss: 0.8167\n",
            "Epoch 14/30\n",
            "\u001b[1m271/271\u001b[0m \u001b[32m━━━━━━━━━━━━━━━━━━━━\u001b[0m\u001b[37m\u001b[0m \u001b[1m14s\u001b[0m 50ms/step - CategoricalAccuracy: 0.9583 - loss: 0.1383 - val_CategoricalAccuracy: 0.7449 - val_loss: 0.9019\n",
            "Epoch 15/30\n",
            "\u001b[1m271/271\u001b[0m \u001b[32m━━━━━━━━━━━━━━━━━━━━\u001b[0m\u001b[37m\u001b[0m \u001b[1m14s\u001b[0m 51ms/step - CategoricalAccuracy: 0.9315 - loss: 0.2119 - val_CategoricalAccuracy: 0.7594 - val_loss: 0.8197\n",
            "Epoch 16/30\n",
            "\u001b[1m271/271\u001b[0m \u001b[32m━━━━━━━━━━━━━━━━━━━━\u001b[0m\u001b[37m\u001b[0m \u001b[1m14s\u001b[0m 51ms/step - CategoricalAccuracy: 0.9610 - loss: 0.1357 - val_CategoricalAccuracy: 0.7587 - val_loss: 0.8417\n",
            "Epoch 17/30\n",
            "\u001b[1m271/271\u001b[0m \u001b[32m━━━━━━━━━━━━━━━━━━━━\u001b[0m\u001b[37m\u001b[0m \u001b[1m13s\u001b[0m 48ms/step - CategoricalAccuracy: 0.9609 - loss: 0.1289 - val_CategoricalAccuracy: 0.7606 - val_loss: 0.8608\n",
            "Epoch 18/30\n",
            "\u001b[1m271/271\u001b[0m \u001b[32m━━━━━━━━━━━━━━━━━━━━\u001b[0m\u001b[37m\u001b[0m \u001b[1m13s\u001b[0m 47ms/step - CategoricalAccuracy: 0.9666 - loss: 0.1189 - val_CategoricalAccuracy: 0.7606 - val_loss: 0.8906\n",
            "Epoch 19/30\n",
            "\u001b[1m271/271\u001b[0m \u001b[32m━━━━━━━━━━━━━━━━━━━━\u001b[0m\u001b[37m\u001b[0m \u001b[1m14s\u001b[0m 51ms/step - CategoricalAccuracy: 0.9528 - loss: 0.1494 - val_CategoricalAccuracy: 0.7634 - val_loss: 0.8478\n",
            "Epoch 20/30\n",
            "\u001b[1m271/271\u001b[0m \u001b[32m━━━━━━━━━━━━━━━━━━━━\u001b[0m\u001b[37m\u001b[0m \u001b[1m13s\u001b[0m 50ms/step - CategoricalAccuracy: 0.9633 - loss: 0.1189 - val_CategoricalAccuracy: 0.7647 - val_loss: 0.8574\n",
            "Epoch 21/30\n",
            "\u001b[1m271/271\u001b[0m \u001b[32m━━━━━━━━━━━━━━━━━━━━\u001b[0m\u001b[37m\u001b[0m \u001b[1m21s\u001b[0m 52ms/step - CategoricalAccuracy: 0.9694 - loss: 0.1049 - val_CategoricalAccuracy: 0.7695 - val_loss: 0.8759\n",
            "Epoch 22/30\n",
            "\u001b[1m271/271\u001b[0m \u001b[32m━━━━━━━━━━━━━━━━━━━━\u001b[0m\u001b[37m\u001b[0m \u001b[1m20s\u001b[0m 49ms/step - CategoricalAccuracy: 0.9707 - loss: 0.0997 - val_CategoricalAccuracy: 0.7528 - val_loss: 0.9483\n",
            "Epoch 23/30\n",
            "\u001b[1m271/271\u001b[0m \u001b[32m━━━━━━━━━━━━━━━━━━━━\u001b[0m\u001b[37m\u001b[0m \u001b[1m13s\u001b[0m 49ms/step - CategoricalAccuracy: 0.9715 - loss: 0.0954 - val_CategoricalAccuracy: 0.7574 - val_loss: 0.9224\n",
            "Epoch 24/30\n",
            "\u001b[1m271/271\u001b[0m \u001b[32m━━━━━━━━━━━━━━━━━━━━\u001b[0m\u001b[37m\u001b[0m \u001b[1m21s\u001b[0m 51ms/step - CategoricalAccuracy: 0.9711 - loss: 0.0963 - val_CategoricalAccuracy: 0.7621 - val_loss: 0.9053\n",
            "Epoch 25/30\n",
            "\u001b[1m271/271\u001b[0m \u001b[32m━━━━━━━━━━━━━━━━━━━━\u001b[0m\u001b[37m\u001b[0m \u001b[1m14s\u001b[0m 53ms/step - CategoricalAccuracy: 0.9740 - loss: 0.0875 - val_CategoricalAccuracy: 0.7592 - val_loss: 0.9497\n",
            "Epoch 26/30\n",
            "\u001b[1m271/271\u001b[0m \u001b[32m━━━━━━━━━━━━━━━━━━━━\u001b[0m\u001b[37m\u001b[0m \u001b[1m20s\u001b[0m 51ms/step - CategoricalAccuracy: 0.9751 - loss: 0.0842 - val_CategoricalAccuracy: 0.7666 - val_loss: 0.9220\n",
            "Epoch 27/30\n",
            "\u001b[1m271/271\u001b[0m \u001b[32m━━━━━━━━━━━━━━━━━━━━\u001b[0m\u001b[37m\u001b[0m \u001b[1m21s\u001b[0m 51ms/step - CategoricalAccuracy: 0.9733 - loss: 0.0889 - val_CategoricalAccuracy: 0.7576 - val_loss: 0.9756\n",
            "Epoch 28/30\n",
            "\u001b[1m271/271\u001b[0m \u001b[32m━━━━━━━━━━━━━━━━━━━━\u001b[0m\u001b[37m\u001b[0m \u001b[1m20s\u001b[0m 51ms/step - CategoricalAccuracy: 0.9779 - loss: 0.0746 - val_CategoricalAccuracy: 0.7512 - val_loss: 0.9903\n",
            "Epoch 29/30\n",
            "\u001b[1m271/271\u001b[0m \u001b[32m━━━━━━━━━━━━━━━━━━━━\u001b[0m\u001b[37m\u001b[0m \u001b[1m14s\u001b[0m 51ms/step - CategoricalAccuracy: 0.9788 - loss: 0.0719 - val_CategoricalAccuracy: 0.7670 - val_loss: 0.9415\n",
            "Epoch 30/30\n",
            "\u001b[1m271/271\u001b[0m \u001b[32m━━━━━━━━━━━━━━━━━━━━\u001b[0m\u001b[37m\u001b[0m \u001b[1m14s\u001b[0m 53ms/step - CategoricalAccuracy: 0.9786 - loss: 0.0702 - val_CategoricalAccuracy: 0.7719 - val_loss: 0.9304\n"
          ]
        }
      ]
    }
  ]
}